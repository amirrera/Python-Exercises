{
 "cells": [
  {
   "cell_type": "markdown",
   "id": "0c9de957",
   "metadata": {},
   "source": [
    "Let's Start"
   ]
  },
  {
   "cell_type": "markdown",
   "id": "0d82d835",
   "metadata": {},
   "source": [
    "Exercise 3: Using frozenset as a Dictionary Key\n",
    "Create a dictionary graph where each key is a frozenset representing an edge in a graph, and the value is the weight of that edge. Here's an example edge: a frozenset of nodes (1, 2) with an edge weight of 10. Add at least two more edges with different weights."
   ]
  },
  {
   "cell_type": "code",
   "execution_count": 1,
   "id": "2da6a1dc",
   "metadata": {},
   "outputs": [
    {
     "name": "stdout",
     "output_type": "stream",
     "text": [
      "Edge {1, 2} has weight 10\n",
      "Edge {2, 3} has weight 15\n",
      "Edge {3, 4} has weight 20\n"
     ]
    }
   ],
   "source": [
    "# Step 1: Create a dictionary where keys are frozensets and values are edge weights\n",
    "graph = {\n",
    "    frozenset([1, 2]): 10,\n",
    "    frozenset([2, 3]): 15,\n",
    "    frozenset([3, 4]): 20\n",
    "}\n",
    "\n",
    "# Step 2: Print the graph\n",
    "for edge, weight in graph.items():\n",
    "    print(f\"Edge {set(edge)} has weight {weight}\")"
   ]
  }
 ],
 "metadata": {
  "kernelspec": {
   "display_name": "test3_py12",
   "language": "python",
   "name": "python3"
  },
  "language_info": {
   "codemirror_mode": {
    "name": "ipython",
    "version": 3
   },
   "file_extension": ".py",
   "mimetype": "text/x-python",
   "name": "python",
   "nbconvert_exporter": "python",
   "pygments_lexer": "ipython3",
   "version": "3.12.11"
  }
 },
 "nbformat": 4,
 "nbformat_minor": 5
}
