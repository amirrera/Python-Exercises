{
 "cells": [
  {
   "cell_type": "markdown",
   "id": "281554f1",
   "metadata": {},
   "source": [
    "To illustrate how to create a class in Python, let’s create a simple Dog class. This class will have two attributes (name and age) and one method (bark)."
   ]
  },
  {
   "cell_type": "code",
   "execution_count": 1,
   "id": "c40e2e72",
   "metadata": {},
   "outputs": [],
   "source": [
    "class Dog:\n",
    "    def __init__(self, name, age):\n",
    "        self.name = name\n",
    "        self.age = age\n",
    "\n",
    "    def bark(self):\n",
    "        return f\"{self.name} says woof!\""
   ]
  },
  {
   "cell_type": "code",
   "execution_count": 2,
   "id": "40e11d7d",
   "metadata": {},
   "outputs": [],
   "source": [
    "dog1 = Dog (\"Max\", 5)\n",
    "dog2 = Dog (\"Bella\", 3)"
   ]
  },
  {
   "cell_type": "code",
   "execution_count": null,
   "id": "e446d0cc",
   "metadata": {},
   "outputs": [
    {
     "data": {
      "text/plain": [
       "'Max says woof!'"
      ]
     },
     "execution_count": 4,
     "metadata": {},
     "output_type": "execute_result"
    }
   ],
   "source": [
    "dog1.bark()"
   ]
  },
  {
   "cell_type": "code",
   "execution_count": 5,
   "id": "41fe5929",
   "metadata": {},
   "outputs": [
    {
     "data": {
      "text/plain": [
       "'Bella says woof!'"
      ]
     },
     "execution_count": 5,
     "metadata": {},
     "output_type": "execute_result"
    }
   ],
   "source": [
    "dog2.bark()"
   ]
  },
  {
   "cell_type": "code",
   "execution_count": 8,
   "metadata": {},
   "outputs": [],
   "source": [
    "class Account:\n",
    "    def __init__(self, owner, amount=0):\n",
    "        self.owner = owner\n",
    "        self.__balance = amount # __ Means privet attribute\n",
    "\n",
    "    def deposit (self, amount):\n",
    "        if amount > 0:\n",
    "            self.__balance += amount\n",
    "            print(\"Deposit Successful\")\n",
    "\n",
    "    def show_balance(self):\n",
    "        print (f\"Balance: {self.__balance}\")"
   ]
  },
  {
   "cell_type": "code",
   "execution_count": 11,
   "id": "254c39a6",
   "metadata": {},
   "outputs": [
    {
     "name": "stdout",
     "output_type": "stream",
     "text": [
      "Deposit Successful\n"
     ]
    }
   ],
   "source": [
    "acc = Account (\"John\", 50)\n",
    "acc.deposit (100)"
   ]
  },
  {
   "cell_type": "code",
   "execution_count": 12,
   "id": "e65fd0bb",
   "metadata": {},
   "outputs": [
    {
     "name": "stdout",
     "output_type": "stream",
     "text": [
      "Balance: 150\n"
     ]
    }
   ],
   "source": [
    "acc.show_balance()"
   ]
  },
  {
   "cell_type": "code",
   "execution_count": 15,
   "id": "275c30b3",
   "metadata": {},
   "outputs": [],
   "source": [
    "class Car:\n",
    "    def __init__ (self, model, color=\"Black\"):\n",
    "        self.model = model\n",
    "        self.color = color\n",
    "\n",
    "    def honk (self):\n",
    "        return f\"{self.model} says Beep Beep!\""
   ]
  },
  {
   "cell_type": "code",
   "execution_count": 16,
   "metadata": {},
   "outputs": [],
   "source": [
    "my_car = Car (\"Toyota\")"
   ]
  },
  {
   "cell_type": "code",
   "execution_count": null,
   "id": "6b4d4cd9",
   "metadata": {},
   "outputs": [
    {
     "data": {
      "text/plain": [
       "'Toyota'"
      ]
     },
     "execution_count": 20,
     "metadata": {},
     "output_type": "execute_result"
    }
   ],
   "source": [
    "my_car.model"
   ]
  },
  {
   "cell_type": "code",
   "execution_count": 21,
   "id": "a89ceefb",
   "metadata": {},
   "outputs": [
    {
     "data": {
      "text/plain": [
       "'Black'"
      ]
     },
     "execution_count": 21,
     "metadata": {},
     "output_type": "execute_result"
    }
   ],
   "source": [
    "my_car.color"
   ]
  },
  {
   "cell_type": "code",
   "execution_count": 22,
   "metadata": {},
   "outputs": [
    {
     "data": {
      "text/plain": [
       "'Toyota says Beep Beep!'"
      ]
     },
     "execution_count": 22,
     "metadata": {},
     "output_type": "execute_result"
    }
   ],
   "source": [
    "my_car.honk ()"
   ]
  },
  {
   "cell_type": "code",
   "execution_count": 1,
   "id": "d02fcaa3",
   "metadata": {},
   "outputs": [],
   "source": [
    "class Car:\n",
    "    def __init__(self, color, model, year, make, is_electric):\n",
    "        self.color = color\n",
    "        self.model = model\n",
    "        self.year = year\n",
    "        self.make = make\n",
    "        self.is_electric = is_electric\n",
    "\n",
    "    def display_info(self):\n",
    "        electric_status = \"Electric\" if self.is_electric else \"Gasoline\"\n",
    "        return f\"{self.year} {self.make} {self.model} ({electric_status}), Color: {self.color}\"\n",
    "\n",
    "    def start_engine(self):\n",
    "        return f\"The {self.make} {self.model}'s engine has started!\""
   ]
  },
  {
   "cell_type": "code",
   "execution_count": 6,
   "id": "b4f7c763",
   "metadata": {},
   "outputs": [
    {
     "data": {
      "text/plain": [
       "'Blue'"
      ]
     },
     "execution_count": 6,
     "metadata": {},
     "output_type": "execute_result"
    }
   ],
   "source": [
    "# Create a Car object\n",
    "my_car = Car(\"Blue\", \"Model S\", 2020, \"Tesla\", True)\n",
    "# Access an attribute\n",
    "my_car.color"
   ]
  },
  {
   "cell_type": "code",
   "execution_count": 7,
   "id": "5ea7de2f",
   "metadata": {},
   "outputs": [
    {
     "data": {
      "text/plain": [
       "True"
      ]
     },
     "execution_count": 7,
     "metadata": {},
     "output_type": "execute_result"
    }
   ],
   "source": [
    "my_car.is_electric"
   ]
  },
  {
   "cell_type": "code",
   "execution_count": 8,
   "id": "1f76295b",
   "metadata": {},
   "outputs": [
    {
     "data": {
      "text/plain": [
       "'2020 Tesla Model S (Electric), Color: Blue'"
      ]
     },
     "execution_count": 8,
     "metadata": {},
     "output_type": "execute_result"
    }
   ],
   "source": [
    "# Invoke methods\n",
    "my_car.display_info()"
   ]
  },
  {
   "cell_type": "code",
   "execution_count": 9,
   "id": "6a3c86b6",
   "metadata": {},
   "outputs": [
    {
     "data": {
      "text/plain": [
       "\"The Tesla Model S's engine has started!\""
      ]
     },
     "execution_count": 9,
     "metadata": {},
     "output_type": "execute_result"
    }
   ],
   "source": [
    "my_car.start_engine()"
   ]
  },
  {
   "cell_type": "markdown",
   "id": "23e3cc0b",
   "metadata": {},
   "source": [
    "For this exercise, you will define a simple Book class to encapsulate the properties and behaviors associated with a book. This exercise is designed to apply the concepts covered in the lecture, such as defining classes, working with methods, using the self keyword, initializing objects, and distinguishing between class and instance attributes."
   ]
  },
  {
   "cell_type": "markdown",
   "id": "a89c45cc",
   "metadata": {},
   "source": [
    "Define a Simple Book Class:\n",
    "\n",
    "Create a Book class with instance attributes for title, author, and pages.\n",
    "Define an instance method description that prints a description of the book including its title, author, and number of pages.\n",
    "Instantiate an Object from the Book Class:\n",
    "\n",
    "Create an instance of the Book class with the title \"Python Programming\", author \"John Doe\", and page count of 350.\n",
    "Call the description method on this instance to print the book's details.\n",
    "Use of self:\n",
    "\n",
    "Explain, through comments in your code, why the self keyword is necessary in the description method of the Book class.\n",
    "Incorporate the __init__ Method:\n",
    "\n",
    "Modify the Book class to include the __init__ method for initializing new instances with the title, author, and pages attributes.\n",
    "Class vs. Instance Attributes:\n",
    "\n",
    "Add a class attribute book_count to keep track of the total number of book instances created.\n",
    "Increment the book_count inside the __init__ method every time a new Book instance is created.\n",
    "Instantiating Multiple Objects:\n",
    "\n",
    "Create two additional Book instances with different titles, authors, and page counts.\n",
    "Print out the book_count to show the total number of books created.\n",
    "Practical Example: Enhancing the Book Class:\n",
    "\n",
    "Add a method is_long to the Book class that returns True if the book has more than 500 pages and False otherwise.\n",
    "Create a new Book instance with more than 500 pages and use the is_long method to check if the book is considered long."
   ]
  },
  {
   "cell_type": "code",
   "execution_count": null,
   "id": "ee811bae",
   "metadata": {},
   "outputs": [],
   "source": [
    "class Book:\n",
    "    book_count = 0 # Class Attribute\n",
    "\n",
    "    def __init__(self, title, author, pages): # The __init__ Methode (Big Bang for Objects!!!)\n",
    "        self.title = title # Instance Attribute\n",
    "        self.author = author # Instance Attribute\n",
    "        self.pages = pages # Instance Attribute\n",
    "        Book.book_count += 1 # Updating the Class Attribute\n",
    "    \n",
    "    def description (self): # Instance Method\n",
    "        print(f\"Title: {self.title}, Author: {self.author}, Pages: {self.pages}\")\n",
    "\n",
    "    def is_long (self): # Instance Method\n",
    "        print (\"Yes!\") if self.pages > 500 else print (\"No\")\n"
   ]
  },
  {
   "cell_type": "code",
   "execution_count": null,
   "id": "a7757cbb",
   "metadata": {},
   "outputs": [
    {
     "name": "stdout",
     "output_type": "stream",
     "text": [
      "Title: Python Programming, Author: John Doe, Pages: 350\n"
     ]
    }
   ],
   "source": [
    "first_book = Book (\"Python Programming\", \"John Doe\", 350) # Create an instance of the Book class with the title \"Python Programming\", author \"John Doe\", and page count of 350.\n",
    "first_book.description () # Call the description method on this instance to print the book's details."
   ]
  },
  {
   "cell_type": "code",
   "execution_count": null,
   "id": "98e61a63",
   "metadata": {},
   "outputs": [
    {
     "data": {
      "text/plain": [
       "\" Task 3: Use of `self`\\n The `self` keyword is used to refer to the instance upon which the method is\\n being called. It allows access to the instance's attributes and methods.\\n Without `self`, the method would not have access to the instance's `title`,\\n `author`, and `pages` attributes. \""
      ]
     },
     "execution_count": 12,
     "metadata": {},
     "output_type": "execute_result"
    }
   ],
   "source": [
    "''' Task 3: Use of `self`:\n",
    " The `self` keyword is used to refer to the instance upon which the method is\n",
    " being called. It allows access to the instance's attributes and methods.\n",
    " Without `self`, the method would not have access to the instance's `title`,\n",
    " `author`, and `pages` attributes. '''"
   ]
  },
  {
   "cell_type": "code",
   "execution_count": 17,
   "id": "7dc09f93",
   "metadata": {},
   "outputs": [],
   "source": [
    "second_book = Book(\"Automate the Boring Stuff\", \"Al Sweigart\", 504)"
   ]
  },
  {
   "cell_type": "code",
   "execution_count": 14,
   "id": "a975e114",
   "metadata": {},
   "outputs": [
    {
     "name": "stdout",
     "output_type": "stream",
     "text": [
      "Total number of books created: 2\n"
     ]
    }
   ],
   "source": [
    "# Print out the book_count to show the total number of books created\n",
    "print(f\"Total number of books created: {Book.book_count}\")"
   ]
  },
  {
   "cell_type": "code",
   "execution_count": 16,
   "id": "e6d8af3a",
   "metadata": {},
   "outputs": [
    {
     "name": "stdout",
     "output_type": "stream",
     "text": [
      "No\n",
      "This book is considered long: None\n"
     ]
    }
   ],
   "source": [
    "# Use the `is_long` method to check if the book is considered long\n",
    "print(f\"This book is considered long: {first_book.is_long()}\")"
   ]
  },
  {
   "cell_type": "code",
   "execution_count": 18,
   "id": "8f7e2168",
   "metadata": {},
   "outputs": [],
   "source": [
    "# Task 1: Define the Classroom Class\n",
    "class Classroom:\n",
    "    def __init__(self, teacher, students, subject, room_number):\n",
    "        self.teacher = teacher\n",
    "        self.students = students\n",
    "        self.subject = subject\n",
    "        self.room_number = room_number\n",
    "\n",
    "    def display_info(self):\n",
    "        print(f\"Teacher: {self.teacher}\")\n",
    "        print(f\"Students: {self.students}\")\n",
    "        print(f\"Subject: {self.subject}\")\n",
    "        print(f\"Room Number: {self.room_number}\")"
   ]
  },
  {
   "cell_type": "code",
   "execution_count": 19,
   "id": "9a11a171",
   "metadata": {},
   "outputs": [],
   "source": [
    "# Task 2: Instantiate the Classroom\n",
    "my_class = Classroom(\n",
    "    teacher=\"Mr. Smith\",\n",
    "    students=[\"Alice\", \"Bob\", \"Charlie\", \"Diana\"],\n",
    "    subject=\"Mathematics\",\n",
    "    room_number=101\n",
    ")"
   ]
  },
  {
   "cell_type": "code",
   "execution_count": 20,
   "id": "3ebd4c19",
   "metadata": {},
   "outputs": [
    {
     "name": "stdout",
     "output_type": "stream",
     "text": [
      "Teacher: Mr. Smith\n",
      "Students: ['Alice', 'Bob', 'Charlie', 'Diana']\n",
      "Subject: Mathematics\n",
      "Room Number: 101\n"
     ]
    }
   ],
   "source": [
    "# Task 3: Print Object Attributes\n",
    "my_class.display_info()"
   ]
  },
  {
   "cell_type": "markdown",
   "id": "700002be",
   "metadata": {},
   "source": [
    "Understanding Inheritance in Python\n",
    "Inheritance is a fundamental concept in object-oriented programming (OOP) that allows for the creation of a new class that inherits the attributes and methods of an existing class. This new class, commonly referred to as a child or subclass, can add new attributes and methods or modify existing ones inherited from the parent or base class. This mechanism promotes code reusability and establishes a natural hierarchy within the code, making it more organized and manageable.\n",
    "\n",
    "\n",
    "Python, as a powerful and versatile programming language, supports inheritance, enabling developers to build complex and efficient software systems. Understanding how to effectively use inheritance in Python can significantly enhance your coding practices, facilitating the development of robust, scalable, and maintainable applications.\n",
    "\n",
    "Before diving into the technicalities, let's first understand the rationale behind using inheritance in software development:\n",
    "\n",
    "Code Reusability: Inheritance allows you to reuse the code of the base class without having to rewrite it in the subclass. This not only saves time but also ensures consistency across different parts of the application.\n",
    "\n",
    "Maintainability: When changes are required, updating the base class automatically reflects in all subclasses, making maintenance easier and reducing the risk of errors.\n",
    "\n",
    "Extensibility: Inheritance makes it straightforward to extend the functionalities of existing classes. By inheriting from a base class, new classes can add distinct features or modify existing behaviors while keeping the core functionalities intact.\n",
    "\n",
    "Hierarchical Organization: It naturally leads to a hierarchical classification of classes, making the architecture of larger software systems easier to understand at a glance.\n",
    "\n",
    "Imagine you're designing a software system for a vehicle rental service. You might start with a general Vehicle class that includes attributes and methods common to all types of vehicles, such as make, model, year, start(), and stop(). However, different categories of vehicles, like cars, bikes, and trucks, have their unique characteristics and functionalities.\n",
    "\n",
    "Here's where inheritance shines. Instead of creating completely separate classes for each type of vehicle from scratch, you can create subclasses like Car, Bike, and Truck that inherit the common functionalities from the Vehicle class and then add or modify features specific to each vehicle type. For example, the Car class might include additional methods like open_trunk()."
   ]
  },
  {
   "cell_type": "markdown",
   "id": "307f632c",
   "metadata": {},
   "source": [
    "Inheritance allows subclasses to inherit properties and methods from their parent classes, but what if a subclass needs to modify these methods or call a method in the parent class in addition to performing its own operations? This is where the super() function and method overriding become indispensable tools in the Python developer's arsenal.\n",
    "\n",
    "The super() function is used to give access to methods and properties of a parent or sibling class. It is commonly used in the initialization of subclasses where you want to use the functionality of the parent class and then extend it. The super() function returns a temporary object of the superclass that allows the subclass to call its methods.\n",
    "\n",
    "This approach is not only cleaner but also more maintainable, as it ensures that the parent class's initialization code is executed and makes the child class easier to update, especially in the face of changing requirements or class hierarchies."
   ]
  },
  {
   "cell_type": "code",
   "execution_count": 21,
   "id": "7f07237a",
   "metadata": {},
   "outputs": [],
   "source": [
    "class Vehicle:  # This is the base class\n",
    "    def __init__(self, make, model, year):\n",
    "        self.make = make\n",
    "        self.model = model\n",
    "        self.year = year\n",
    "\n",
    "    def display_info(self):\n",
    "        print(f\"{self.year} {self.make} {self.model}\")"
   ]
  },
  {
   "cell_type": "code",
   "execution_count": 22,
   "id": "81a9f0fd",
   "metadata": {},
   "outputs": [],
   "source": [
    "class Car(Vehicle):\n",
    "    def __init__(self, make, model, year, trunk_capacity):\n",
    "        super().__init__(make, model, year)  # Calls the __init__ of Vehicle\n",
    "        self.trunk_capacity = trunk_capacity  # New attribute specific to Car\n",
    "\n",
    "    def display_car_info(self):  # New method specific to Car\n",
    "        print(f\"{self.year} {self.make} {self.model} with trunk capacity: {self.trunk_capacity} liters\")\n",
    "\n",
    "    # Overriding an inherited method\n",
    "    def display_info(self):\n",
    "        print(f\"This is a {self.year} {self.make} {self.model}.\")"
   ]
  },
  {
   "cell_type": "code",
   "execution_count": 24,
   "id": "e5a9030f",
   "metadata": {},
   "outputs": [
    {
     "name": "stdout",
     "output_type": "stream",
     "text": [
      "2020 Honda Civic with trunk capacity: 450 liters\n"
     ]
    }
   ],
   "source": [
    "# Creating an instance of Car and using its methods\n",
    "my_car = Car(\"Honda\", \"Civic\", 2020, 450)\n",
    "my_car.display_car_info() "
   ]
  },
  {
   "cell_type": "markdown",
   "id": "cc3f3c96",
   "metadata": {},
   "source": [
    "Exercise: Crafting an Employee Inheritance Structure\n",
    "In this exercise, you will demonstrate your understanding of basic class inheritance, method addition, and method overriding by creating a class hierarchy for employees in a company. The exercise will help you grasp how inheritance allows for code reuse and behavior specialization in subclasses.\n",
    "\n",
    "Scenario: A company has a simple employee structure consisting of general employees and managers. Both types of employees share some common attributes but also have some specific to their role.\n",
    "\n",
    "Tasks:\n",
    "\n",
    "Define the Base Class: Create a base class called Employee with the following:\n",
    "\n",
    "Instance attributes: name and email.\n",
    "An __init__ method that initializes the name and email attributes.\n",
    "A method called get_info() that prints the employee's name and email in a neat format.\n",
    "Define a Subclass for Managers: Create a subclass called Manager that inherits from Employee. Add the following to the Manager class:\n",
    "\n",
    "An additional attribute called department.\n",
    "An overridden __init__ method that initializes the name, email, and department using the super() function to initialize name and email.\n",
    "An overridden get_info() method that prints the manager's information, including the department.\n",
    "Instantiate and Test Classes: Create instances of both Employee and Manager, and call their get_info() methods to ensure they display the information correctly.\n",
    "\n",
    "Expected Output:\n",
    "\n",
    "Employee Name: Alice Smith\n",
    "Employee Email: alice@example.com\n",
    "\n",
    "Employee Name: Bob Johnson\n",
    "Employee Email: bob@example.com\n",
    "Department: Engineering\n",
    "\n",
    "\n",
    "\n",
    "\n",
    "This exercise will allow you to practice designing classes that share common attributes and behaviors while also providing specialized functionality for different types of objects within the class hierarchy. Remember to use the super() function appropriately when initializing subclasses to ensure that inherited attributes are set up correctly."
   ]
  },
  {
   "cell_type": "code",
   "execution_count": 1,
   "id": "c87f9344",
   "metadata": {},
   "outputs": [],
   "source": [
    "class Employee:\n",
    "    def __init__(self, name, email):\n",
    "        self.name = name\n",
    "        self.email = email\n",
    "\n",
    "    def get_info (self):\n",
    "        print (f\"name: {self.name},\\temail: {self.email}\")"
   ]
  },
  {
   "cell_type": "code",
   "execution_count": 2,
   "id": "f71db01f",
   "metadata": {},
   "outputs": [],
   "source": [
    "# Define the subclass 'Manager' which inherits from 'Employee'\n",
    "class Manager (Employee):\n",
    "    def __init__(self, name, email, department):\n",
    "        super ().__init__(name, email)\n",
    "        self.department = department\n",
    "    def get_info (self):\n",
    "        super ().get_info ()  # Override the get_info() method to include department information\n",
    "        print (f\"Department: {self.department}\")\n"
   ]
  },
  {
   "cell_type": "code",
   "execution_count": 3,
   "id": "451a06d8",
   "metadata": {},
   "outputs": [
    {
     "name": "stdout",
     "output_type": "stream",
     "text": [
      "name: Alice Smith,\temail: alice@example.com\n"
     ]
    }
   ],
   "source": [
    "# Instantiate and Test Classes\n",
    "\n",
    "# Create an instance of 'Employee'\n",
    "alice = Employee(\"Alice Smith\", \"alice@example.com\")\n",
    "# Call get_info() method to display 'Employee' information\n",
    "alice.get_info()"
   ]
  },
  {
   "cell_type": "code",
   "execution_count": 5,
   "id": "009bf224",
   "metadata": {},
   "outputs": [
    {
     "name": "stdout",
     "output_type": "stream",
     "text": [
      "name: Bob Johnson,\temail: bob@example.com\n",
      "Department: Engineering\n"
     ]
    }
   ],
   "source": [
    "# Create an instance of 'Manager'\n",
    "bob = Manager(\"Bob Johnson\", \"bob@example.com\", \"Engineering\")\n",
    "# Call get_info() method to display 'Manager' information\n",
    "bob.get_info()"
   ]
  },
  {
   "cell_type": "markdown",
   "id": "c547ce57",
   "metadata": {},
   "source": [
    "Types of Inheritance in Python\n",
    "Inheritance is a cornerstone of object-oriented programming in Python, allowing classes to inherit attributes and methods from one or more classes. This fundamental concept not only promotes code reuse but also enables a logical and hierarchical organization of code, making it easier to understand, maintain, and extend. Inheritance models the \"is a\" relationship between a child class and its parent class or classes, reflecting real-world relationships and facilitating the implementation of abstract behaviors into concrete actions.\n",
    "\n",
    "Python supports various types of inheritance, each catering to different programming needs and scenarios. Understanding these types and when to use them can significantly enhance your ability to design robust and scalable software systems. This lecture will guide you through the different types of inheritance supported by Python, providing insight into their functionality and application.\n",
    "\n",
    "\n",
    "Single Inheritance – A child class inherits from one parent class.\n",
    "\n",
    "Multiple Inheritance – A child class inherits from more than one parent class.\n",
    "\n",
    "Multilevel Inheritance – A chain of inheritance where a class derives from a child class, which in turn derives from another parent.\n",
    "\n",
    "Hierarchical Inheritance – Multiple child classes inherit from the same parent class.\n",
    "\n",
    "Hybrid Inheritance – A combination of two or more types of inheritance.\n",
    "\n",
    "Inheritance promotes code reuse, modularity, and allows method overriding to customize behavior in child classes."
   ]
  },
  {
   "cell_type": "markdown",
   "id": "42782b32",
   "metadata": {},
   "source": [
    "Tasks:\n",
    "\n",
    "Implement Single Inheritance:\n",
    "\n",
    "Create a base class named Person with attributes name and age and a method introduce_self() that prints out a greeting containing the person's name and age.\n",
    "Create a subclass named UniversityMember that inherits from Person. Add an attribute university_name and override the introduce_self() method to include the university name in"
   ]
  },
  {
   "cell_type": "code",
   "execution_count": 17,
   "id": "1977820d",
   "metadata": {},
   "outputs": [],
   "source": [
    "# Task 1: Implement Single Inheritance\n",
    "class Person:\n",
    "    def __init__(self, name, age):\n",
    "        self.name = name\n",
    "        self.age = age\n",
    "\n",
    "    def introduce_self(self):\n",
    "        print(f\"Hello! My name is {self.name}, and I am {self.age} years old.\")"
   ]
  },
  {
   "cell_type": "code",
   "execution_count": 23,
   "id": "f38aa7c0",
   "metadata": {},
   "outputs": [],
   "source": [
    "class UniversityMember (Person):\n",
    "    def __init__ (self, name, age, university_name):\n",
    "        super ().__init__ (name, age)\n",
    "        self.university_name = university_name\n",
    "\n",
    "    def introduce_self (self):\n",
    "        super().introduce_self()\n",
    "        print (f\" I am a member of {self.university_name} University.\")     "
   ]
  },
  {
   "cell_type": "code",
   "execution_count": 26,
   "id": "4265e9db",
   "metadata": {},
   "outputs": [
    {
     "name": "stdout",
     "output_type": "stream",
     "text": [
      "Hello! My name is Alice, and I am 24 years old.\n",
      " I am a member of QIAU University.\n"
     ]
    }
   ],
   "source": [
    "alice = UniversityMember(name=\"Alice\", age=24, university_name=\"QIAU\")\n",
    "alice.introduce_self()"
   ]
  },
  {
   "cell_type": "markdown",
   "id": "02a3f915",
   "metadata": {},
   "source": [
    "Implement Multilevel Inheritance:\n",
    "\n",
    "Create two subclasses of UniversityMember: Student and Instructor. For Student, add an attribute student_id, and for Instructor, add an attribute employee_id.\n",
    "Override the introduce_self() method in each subclass to include their respective ID along with the inherited attributes."
   ]
  },
  {
   "cell_type": "code",
   "execution_count": 11,
   "id": "09298dfc",
   "metadata": {},
   "outputs": [],
   "source": [
    "class Person:\n",
    "    def __init__(self, name, age):\n",
    "        self.name = name\n",
    "        self.age = age\n",
    "\n",
    "    def introduce_self(self):\n",
    "        print(f\"Hello! My name is {self.name}, and I am {self.age} years old.\")\n",
    "\n",
    "class UniversityMember (Person):\n",
    "    def __init__ (self, name, age, university_name):\n",
    "        super ().__init__ (name, age)\n",
    "        self.university_name = university_name\n",
    "\n",
    "    def introduce_self (self):\n",
    "        super().introduce_self()\n",
    "        print (f\" I am a member of {self.university_name} University.\")  \n",
    "\n",
    "##################################################################################\n",
    "\n",
    "class Student (UniversityMember):\n",
    "    def __init__ (self, name, age, university_name, student_id):\n",
    "        super ().__init__ (name, age, university_name)\n",
    "        self.student_id = student_id\n",
    "\n",
    "    def introduce_self (self):\n",
    "        super ().introduce_self ()\n",
    "        print (f\"And my Student_ID is: {self.student_id}\")\n",
    "\n",
    "class Instructor (UniversityMember):\n",
    "    def __init__ (self, name, age, university_name, employee_id):\n",
    "        super ().__init__ (name, age, university_name)\n",
    "        self.employee_id = employee_id\n",
    "\n",
    "    def introduce_self (self):\n",
    "        super ().introduce_self ()\n",
    "        print (f\"And my employee_id is: {self.employee_id}\")\n"
   ]
  },
  {
   "cell_type": "code",
   "execution_count": 13,
   "id": "09349b4f",
   "metadata": {},
   "outputs": [
    {
     "name": "stdout",
     "output_type": "stream",
     "text": [
      "Hello! My name is Alice, and I am 24 years old.\n",
      " I am a member of XYZ University University.\n",
      "And my Student_ID is: S123\n",
      "Hello! My name is Bob, and I am 35 years old.\n",
      " I am a member of ABC University University.\n",
      "And my employee_id is: E456\n"
     ]
    }
   ],
   "source": [
    "alice = Student(name=\"Alice\", age=24, university_name=\"XYZ University\", student_id=\"S123\")\n",
    "bob = Instructor(name=\"Bob\", age=35, university_name=\"ABC University\", employee_id=\"E456\")\n",
    "alice.introduce_self()\n",
    "bob.introduce_self()"
   ]
  }
 ],
 "metadata": {
  "kernelspec": {
   "display_name": "test3_py12",
   "language": "python",
   "name": "python3"
  },
  "language_info": {
   "codemirror_mode": {
    "name": "ipython",
    "version": 3
   },
   "file_extension": ".py",
   "mimetype": "text/x-python",
   "name": "python",
   "nbconvert_exporter": "python",
   "pygments_lexer": "ipython3",
   "version": "3.12.11"
  }
 },
 "nbformat": 4,
 "nbformat_minor": 5
}
