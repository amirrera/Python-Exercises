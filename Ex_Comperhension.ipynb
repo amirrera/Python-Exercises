{
 "cells": [
  {
   "cell_type": "markdown",
   "id": "13fcbfad",
   "metadata": {},
   "source": [
    "Let's go"
   ]
  },
  {
   "cell_type": "markdown",
   "id": "faef8126",
   "metadata": {},
   "source": [
    "Exercise: Transforming and Filtering Data with Comprehensions\n",
    "Imagine you have a list of dictionaries representing various products in a store. Each dictionary contains the product name, category, and price. Your task is to use comprehensions to perform the following operations:\n",
    "\n",
    "Generate a list of product names that are in the category \"Electronics\".\n",
    "Create a dictionary that maps product names to their prices, but only for products that cost more than $50.\n",
    "Compute the average price of all the products in the \"Books\" category.\n",
    "Here's the list of products you will work with:"
   ]
  },
  {
   "cell_type": "code",
   "execution_count": 9,
   "id": "51a0f0e7",
   "metadata": {},
   "outputs": [],
   "source": [
    "products = [\n",
    "    {\"name\": \"Laptop\", \"category\": \"Electronics\", \"price\": 999.99},\n",
    "    {\"name\": \"Smartphone\", \"category\": \"Electronics\", \"price\": 699.99},\n",
    "    {\"name\": \"Book: The Alchemist\", \"category\": \"Books\", \"price\": 14.99},\n",
    "    {\"name\": \"Book: Harry Potter\", \"category\": \"Books\", \"price\": 29.99},\n",
    "    {\"name\": \"Bluetooth Headphones\", \"category\": \"Electronics\", \"price\": 199.99},\n",
    "    {\"name\": \"Monitor\", \"category\": \"Electronics\", \"price\": 149.99},\n",
    "    {\"name\": \"Book: Python Programming\", \"category\": \"Books\", \"price\": 49.99},\n",
    "    {\"name\": \"Desk Lamp\", \"category\": \"Furniture\", \"price\": 24.99},\n",
    "    {\"name\": \"Mousepad\", \"category\": \"Accessories\", \"price\": 5.99},\n",
    "    {\"name\": \"Stylus Pen\", \"category\": \"Accessories\", \"price\": 12.99},\n",
    "]"
   ]
  },
  {
   "cell_type": "code",
   "execution_count": null,
   "id": "053de2f0",
   "metadata": {},
   "outputs": [
    {
     "name": "stdout",
     "output_type": "stream",
     "text": [
      "['Laptop', 'Smartphone', 'Bluetooth Headphones', 'Monitor']\n",
      "{'Laptop': 999.99, 'Smartphone': 699.99, 'Bluetooth Headphones': 199.99, 'Monitor': 149.99}\n",
      "Average Price of Books: 31.656666666666666\n"
     ]
    }
   ],
   "source": [
    "# 1. Generate a list of product names that are in the category \"Electronics\".\n",
    "\n",
    "pname1 = [product[\"name\"] for product in products if product[\"category\"]==\"Electronics\"]\n",
    "print (pname1)\n",
    "\n",
    "# 2. Create a dictionary that maps product names to their prices, but only for products that cost more than $50.\n",
    "\n",
    "pname2 = {product[\"name\"] : product[\"price\"] for product in products if product[\"price\"] > 50.00}\n",
    "print (pname2)\n",
    "\n",
    "# 3. Compute the average price of all the products in the \"Books\" category.\n",
    "\n",
    "pname3 = [product[\"price\"] for product in products if product[\"category\"]==\"Books\"]\n",
    "average_price_books = sum(pname3) / len(pname3) \n",
    "print(\"Average Price of Books:\", average_price_books)"
   ]
  },
  {
   "cell_type": "code",
   "execution_count": 24,
   "id": "71458551",
   "metadata": {},
   "outputs": [],
   "source": [
    "words = [\"apple\", \"banana\", \"cherry\", \"date\", \"elderberry\", \"fig\", \"grape\"]\n",
    "scores = [88, 92, 78, 90, 89, 76, 61]"
   ]
  },
  {
   "cell_type": "code",
   "execution_count": null,
   "id": "8278f929",
   "metadata": {},
   "outputs": [
    {
     "data": {
      "text/plain": [
       "['banana', 'cherry', 'elderberry']"
      ]
     },
     "execution_count": 26,
     "metadata": {},
     "output_type": "execute_result"
    }
   ],
   "source": [
    "# List Comprehension - Select Long Words: Use a list comprehension to create a new list that contains only the words with more than 5 characters from the words list. \n",
    "# Print the new list.\n",
    "\n",
    "w = [word for word in words if len(word) > 5]\n",
    "w"
   ]
  },
  {
   "cell_type": "code",
   "execution_count": 28,
   "id": "8ae3a610",
   "metadata": {},
   "outputs": [
    {
     "data": {
      "text/plain": [
       "{3, 4, 5, 6, 10}"
      ]
     },
     "execution_count": 28,
     "metadata": {},
     "output_type": "execute_result"
    }
   ],
   "source": [
    "# Set Comprehension - Unique Word Lengths: Use a set comprehension to create a set that contains the lengths of each word in the words list.\n",
    "# This will give you a set of unique word lengths. Print the resulting set.\n",
    "\n",
    "s = {len(word) for word in words}\n",
    "s"
   ]
  },
  {
   "cell_type": "code",
   "execution_count": 29,
   "id": "a303e514",
   "metadata": {},
   "outputs": [
    {
     "data": {
      "text/plain": [
       "{'apple': 5,\n",
       " 'banana': 6,\n",
       " 'cherry': 6,\n",
       " 'date': 4,\n",
       " 'elderberry': 10,\n",
       " 'fig': 3,\n",
       " 'grape': 5}"
      ]
     },
     "execution_count": 29,
     "metadata": {},
     "output_type": "execute_result"
    }
   ],
   "source": [
    "# Dictionary Comprehension - Word to Length Mapping: Use a dictionary comprehension to create a dictionary where each word in the words list is a key, \n",
    "# and its corresponding value is the length of the word. \n",
    "# Print the dictionary.Dictionary Comprehension - Word to Length Mapping: Use a dictionary comprehension to create a dictionary where each word in the words list is a key, and its corresponding value is the length of the word. Print the dictionary.\n",
    "\n",
    "q = {word : len (word) for word in words}\n",
    "q"
   ]
  },
  {
   "cell_type": "code",
   "execution_count": 32,
   "id": "337cea0c",
   "metadata": {},
   "outputs": [
    {
     "data": {
      "text/plain": [
       "['Pass', 'Pass', 'Pass', 'Pass', 'Pass', 'Pass', 'Fail']"
      ]
     },
     "execution_count": 32,
     "metadata": {},
     "output_type": "execute_result"
    }
   ],
   "source": [
    "# List Comprehension with Conditional - Grade Categories: Use a list comprehension with a conditional to create a new list of strings that categorize each score \n",
    "# in the scores list as 'Pass' if the score is 75 or higher and 'Fail' if the score is lower than 75. Print the list of grade categories.\n",
    "# scores = [88, 92, 78, 90, 89, 76, 61]\n",
    "\n",
    "l = [\"Pass\" if score >= 75 else \"Fail\" for score in scores]\n",
    "l"
   ]
  }
 ],
 "metadata": {
  "kernelspec": {
   "display_name": "test3_py12",
   "language": "python",
   "name": "python3"
  },
  "language_info": {
   "codemirror_mode": {
    "name": "ipython",
    "version": 3
   },
   "file_extension": ".py",
   "mimetype": "text/x-python",
   "name": "python",
   "nbconvert_exporter": "python",
   "pygments_lexer": "ipython3",
   "version": "3.12.11"
  }
 },
 "nbformat": 4,
 "nbformat_minor": 5
}
