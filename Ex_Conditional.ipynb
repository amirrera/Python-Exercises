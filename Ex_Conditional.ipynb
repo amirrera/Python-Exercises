{
 "cells": [
  {
   "cell_type": "markdown",
   "id": "cb858427",
   "metadata": {},
   "source": [
    "Exercise: Basic Movie Ticket Pricing\n",
    "You are creating a Python program for a movie theater to determine the ticket price based on the customer's age. The pricing rules are as follows:\n",
    "\n",
    "The regular ticket price is $10.\n",
    "Children under 14 years old get a 50% discount.\n",
    "Seniors aged 65 and above get a 30% discount.\n",
    "Write a Python program that:\n",
    "\n",
    "Asks the user for their age.\n",
    "Calculates and prints the ticket price according to the above rules.\n",
    "Instructions:\n",
    "\n",
    "Use the input() function to prompt the user for their age.\n",
    "Convert the input into an integer using int().\n",
    "Determine the ticket price using an if-elif-else structure.\n",
    "Print out the final ticket price with a message.\n"
   ]
  },
  {
   "cell_type": "code",
   "execution_count": 1,
   "id": "ee463b36",
   "metadata": {},
   "outputs": [
    {
     "name": "stdout",
     "output_type": "stream",
     "text": [
      "Ticket price for you is: $10\n"
     ]
    }
   ],
   "source": [
    "ticket_price = 10\n",
    "age = int (input (\"Welcome. Please enter your age: \"))\n",
    "if age < 14:\n",
    "    print (\"Ticket price for you is: $5\")\n",
    "elif age >= 65:\n",
    "    print (\"Ticket price for you is: $7\")\n",
    "else:\n",
    "    print (f\"Ticket price for you is: ${ticket_price}\")"
   ]
  },
  {
   "cell_type": "code",
   "execution_count": null,
   "id": "3e1f5595",
   "metadata": {},
   "outputs": [],
   "source": [
    "برنامه‌ای بنویس که دو عدد رو با هم مقایسه کنه و چاپ کنه کدوم بزرگتره یا مساوی هستن"
   ]
  },
  {
   "cell_type": "code",
   "execution_count": 2,
   "id": "24492762",
   "metadata": {},
   "outputs": [
    {
     "name": "stdout",
     "output_type": "stream",
     "text": [
      "عدد دوم بزرگتر است\n"
     ]
    }
   ],
   "source": [
    "a = 10\n",
    "b = 20\n",
    "\n",
    "if a > b:\n",
    "    print(\"عدد اول بزرگتر است\")\n",
    "elif a < b:\n",
    "    print(\"عدد دوم بزرگتر است\")\n",
    "else:\n",
    "    print(\"دو عدد مساوی‌اند\")\n"
   ]
  },
  {
   "cell_type": "markdown",
   "id": "eb814529",
   "metadata": {},
   "source": [
    "Nested if:"
   ]
  },
  {
   "cell_type": "code",
   "execution_count": 3,
   "id": "107a2c96",
   "metadata": {},
   "outputs": [
    {
     "name": "stdout",
     "output_type": "stream",
     "text": [
      "Grade D\n"
     ]
    }
   ],
   "source": [
    "grade= int (input ('please enter your grade: '))\n",
    "if grade > 50:\n",
    "    if grade > 70:\n",
    "        if grade >90:\n",
    "                print (\"Grade A\")\n",
    "        else:\n",
    "                print (\"Grade B\")\n",
    "    else:\n",
    "            print (\"Grade C\")\n",
    "else:\n",
    "         print (\"Grade D\")"
   ]
  },
  {
   "cell_type": "code",
   "execution_count": 4,
   "id": "f6249416",
   "metadata": {},
   "outputs": [
    {
     "name": "stdout",
     "output_type": "stream",
     "text": [
      "Grade A\n"
     ]
    }
   ],
   "source": [
    "# Same code\n",
    "grade = int(input('please enter your grade: '))\n",
    "\n",
    "if grade > 90:\n",
    "    print(\"Grade A\")\n",
    "elif grade > 70:\n",
    "    print(\"Grade B\")\n",
    "elif grade > 50:\n",
    "    print(\"Grade C\")\n",
    "else:\n",
    "    print(\"Grade D\")"
   ]
  },
  {
   "cell_type": "markdown",
   "id": "846c2bb1",
   "metadata": {},
   "source": [
    "✅ تمرین ۲: بررسی عدد زوج یا فرد و مثبت یا منفی\n",
    "سوال:\n",
    "برنامه‌ای بنویس که یک عدد صحیح بگیره و بررسی کنه:\n",
    "\n",
    "اول بگه عدد زوج هست یا فرد\n",
    "\n",
    "بعد بگه مثبت هست یا منفی"
   ]
  },
  {
   "cell_type": "code",
   "execution_count": 5,
   "id": "4bbddcb8",
   "metadata": {},
   "outputs": [
    {
     "name": "stdout",
     "output_type": "stream",
     "text": [
      "عدد فرد و منفی است\n"
     ]
    }
   ],
   "source": [
    "number = int(input(\"Enter the number: \"))\n",
    "\n",
    "if number % 2 == 0:\n",
    "    if number >= 0:\n",
    "        print(\"عدد زوج و مثبت است\")\n",
    "    else:\n",
    "        print(\"عدد زوج و منفی است\")\n",
    "else:\n",
    "    if number >= 0:\n",
    "        print(\"عدد فرد و مثبت است\")\n",
    "    else:\n",
    "        print(\"عدد فرد و منفی است\")"
   ]
  },
  {
   "cell_type": "code",
   "execution_count": 8,
   "id": "39f4bee9",
   "metadata": {},
   "outputs": [
    {
     "name": "stdout",
     "output_type": "stream",
     "text": [
      "Result: 29\n"
     ]
    }
   ],
   "source": [
    "num1 = int(input(\"Enter the first number: \"))\n",
    "num2 = int(input(\"Enter the second number: \"))\n",
    "op = input(\"Enter the operator (+ or -): \")\n",
    "\n",
    "if op == \"+\":\n",
    "    print(\"Result:\", num1 + num2)\n",
    "elif op == \"-\":\n",
    "    print(\"Result:\", num1 - num2)\n",
    "else:\n",
    "    print(\"Invalid operator.\")"
   ]
  },
  {
   "cell_type": "code",
   "execution_count": null,
   "id": "d074b05e",
   "metadata": {},
   "outputs": [],
   "source": []
  }
 ],
 "metadata": {
  "kernelspec": {
   "display_name": "test3_py12",
   "language": "python",
   "name": "python3"
  },
  "language_info": {
   "codemirror_mode": {
    "name": "ipython",
    "version": 3
   },
   "file_extension": ".py",
   "mimetype": "text/x-python",
   "name": "python",
   "nbconvert_exporter": "python",
   "pygments_lexer": "ipython3",
   "version": "3.12.11"
  }
 },
 "nbformat": 4,
 "nbformat_minor": 5
}
