{
 "cells": [
  {
   "cell_type": "code",
   "execution_count": 10,
   "id": "5cc9ec7d",
   "metadata": {},
   "outputs": [
    {
     "name": "stdout",
     "output_type": "stream",
     "text": [
      "1 red\n",
      "2 green\n",
      "3 blue\n",
      "4 yellow\n"
     ]
    }
   ],
   "source": [
    "index=1\n",
    "colors = ['red', 'green', 'blue', 'yellow']\n",
    "for color in colors:\n",
    "    print (index, color)\n",
    "    index+=1"
   ]
  },
  {
   "cell_type": "code",
   "execution_count": 3,
   "id": "2b6f6196",
   "metadata": {},
   "outputs": [
    {
     "name": "stdout",
     "output_type": "stream",
     "text": [
      "1 red\n",
      "2 green\n",
      "3 blue\n",
      "4 yellow\n"
     ]
    }
   ],
   "source": [
    "colors = ['red', 'green', 'blue', 'yellow']\n",
    "for index, color in enumerate(colors, start=1):\n",
    "    print(index, color)"
   ]
  },
  {
   "cell_type": "code",
   "execution_count": 11,
   "id": "545cf9a0",
   "metadata": {},
   "outputs": [
    {
     "name": "stdout",
     "output_type": "stream",
     "text": [
      "1\n",
      "1\n",
      "2\n",
      "3\n",
      "4\n",
      "5\n",
      "5\n",
      "6\n",
      "9\n"
     ]
    }
   ],
   "source": [
    "numbers = [3, 1, 4, 1, 5, 9, 2, 6, 5]\n",
    "for number in sorted(numbers):\n",
    "    print(number)"
   ]
  },
  {
   "cell_type": "code",
   "execution_count": null,
   "id": "03c1990f",
   "metadata": {},
   "outputs": [
    {
     "name": "stdout",
     "output_type": "stream",
     "text": [
      "averag temperature: 12.36\n"
     ]
    }
   ],
   "source": [
    "temper = (12, 14, 15, 11, 12, 11.5, 11)\n",
    "sum_min = 0\n",
    "for day in temper:\n",
    "    sum_min += day\n",
    "\n",
    "avg_temper= sum_min/7\n",
    "print (f\"averag temperature: {avg_temper:.2f}\")"
   ]
  },
  {
   "cell_type": "code",
   "execution_count": null,
   "id": "06fe734f",
   "metadata": {},
   "outputs": [
    {
     "name": "stdout",
     "output_type": "stream",
     "text": [
      "Max temperature: 15 \n",
      " Min temprature: 11\n"
     ]
    }
   ],
   "source": [
    "temper = (12, 14, 15, 11, 12, 11.5, 11)\n",
    "sum_max = 0\n",
    "sum_min = temper [0]\n",
    "for day in temper:\n",
    "    sum_max = day if day > sum_max else sum_max\n",
    "    sum_min = day if day < sum_min else sum_min\n",
    "\n",
    "print (\"Max temperature:\",sum_max,'\\n',\"Min temprature:\",sum_min)"
   ]
  },
  {
   "cell_type": "code",
   "execution_count": null,
   "id": "874d4f22",
   "metadata": {},
   "outputs": [
    {
     "name": "stdout",
     "output_type": "stream",
     "text": [
      "Number of warm days: 0\n"
     ]
    }
   ],
   "source": [
    "temper = (12, 14, 15, 11, 12, 11.5, 11)\n",
    "warm_days_count = 0\n",
    "for temp in temper:\n",
    "    if temp >= 22: #شرط گرم بودن هوا\n",
    "        warm_days_count += 1\n",
    "\n",
    "print(f\"Number of warm days: {warm_days_count}\")"
   ]
  },
  {
   "cell_type": "code",
   "execution_count": null,
   "id": "b24d7983",
   "metadata": {},
   "outputs": [
    {
     "name": "stdout",
     "output_type": "stream",
     "text": [
      "[2, 1, 4, 1, 0.5, 0.5]\n"
     ]
    }
   ],
   "source": [
    "# محاسبه نوسانات هوایی بین روزهای هفته\n",
    "\n",
    "temper = (12, 14, 15, 11, 12, 11.5, 11)\n",
    "fluctuations = []\n",
    "\n",
    "for i in range(len(temper) - 1):\n",
    "    diff = abs(temper[i+1] - temper[i]) # (دمای روز بعد منهای دمای روز قبلش در قدر مطلق زیرا کاهش دما یعنی عدد منفی خواهد شد (در حقیقت تغییرات همواره مثبت است\n",
    "    fluctuations.append(diff)\n",
    "\n",
    "print(fluctuations)"
   ]
  }
 ],
 "metadata": {
  "kernelspec": {
   "display_name": "test3_py12",
   "language": "python",
   "name": "python3"
  },
  "language_info": {
   "codemirror_mode": {
    "name": "ipython",
    "version": 3
   },
   "file_extension": ".py",
   "mimetype": "text/x-python",
   "name": "python",
   "nbconvert_exporter": "python",
   "pygments_lexer": "ipython3",
   "version": "3.12.11"
  }
 },
 "nbformat": 4,
 "nbformat_minor": 5
}
