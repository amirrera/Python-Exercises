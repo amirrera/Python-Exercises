{
 "cells": [
  {
   "cell_type": "markdown",
   "id": "67c7620f",
   "metadata": {},
   "source": [
    "تابعی بنویس که یک لیست از اعداد بگیرد و میانگین آن‌ها را برگرداند"
   ]
  },
  {
   "cell_type": "code",
   "execution_count": 3,
   "id": "98d9a6e1",
   "metadata": {},
   "outputs": [
    {
     "name": "stdout",
     "output_type": "stream",
     "text": [
      "7.25\n"
     ]
    }
   ],
   "source": [
    "numbers = [5, 8, 1, 15]\n",
    "\n",
    "def num_avg (numlist):\n",
    "    result = sum (numlist) / len (numlist)\n",
    "    return result\n",
    "\n",
    "\n",
    "print (num_avg (numbers))\n"
   ]
  },
  {
   "cell_type": "markdown",
   "id": "1fbd298a",
   "metadata": {},
   "source": [
    "تابعی بنویس که یک رشته بگیرد و تعداد حروف صدادار (a, e, i, o, u) را برگرداند"
   ]
  },
  {
   "cell_type": "code",
   "execution_count": 6,
   "id": "459d89d2",
   "metadata": {},
   "outputs": [
    {
     "data": {
      "text/plain": [
       "5"
      ]
     },
     "execution_count": 6,
     "metadata": {},
     "output_type": "execute_result"
    }
   ],
   "source": [
    "inpstr = input (\"Enter the word and press ennter: \")\n",
    "\n",
    "def finder (inpstr):\n",
    "    h = 0\n",
    "    for ch in inpstr:\n",
    "        if ch in [\"a\", \"i\", \"o\", \"e\", \"u\"]:\n",
    "            h+=1\n",
    "      \n",
    "\n",
    "    return h\n",
    "\n",
    "finder (inpstr)"
   ]
  },
  {
   "cell_type": "markdown",
   "id": "742ac2a3",
   "metadata": {},
   "source": [
    "تابعی بنویس که یک عدد صحیح بگیرد و بررسی کند عدد اول است یا نه"
   ]
  },
  {
   "cell_type": "code",
   "execution_count": 9,
   "id": "18c55025",
   "metadata": {},
   "outputs": [
    {
     "name": "stdout",
     "output_type": "stream",
     "text": [
      "No\n"
     ]
    }
   ],
   "source": [
    "def is_prime(num):\n",
    "    if num < 2:   # عددهای کوچکتر از 2 اول نیستن\n",
    "        return False\n",
    "    \n",
    "    for i in range(2, int(num**0.5) + 1):  # از ۲ تا جذر عدد رو چک می‌کنیم\n",
    "        if num % i == 0:  # اگر بخش‌پذیر باشه\n",
    "            return False\n",
    "    \n",
    "    return True\n",
    "\n",
    "\n",
    "# تست\n",
    "number = int(input(\"Enter the number and press enter: \"))\n",
    "\n",
    "if is_prime(number):\n",
    "    print(\"Yes\")\n",
    "else:\n",
    "    print(\"No\")"
   ]
  },
  {
   "cell_type": "markdown",
   "id": "9bac2aae",
   "metadata": {},
   "source": [
    "تابعی بنویس که یک لیست بگیرد و بزرگ‌ترین و کوچک‌ترین مقدار در آن را برگرداند"
   ]
  },
  {
   "cell_type": "code",
   "execution_count": 10,
   "id": "be4f8f6e",
   "metadata": {},
   "outputs": [
    {
     "name": "stdout",
     "output_type": "stream",
     "text": [
      "(-4, 21)\n"
     ]
    }
   ],
   "source": [
    "def min_max(lst):\n",
    "    return min(lst), max(lst)\n",
    "\n",
    "# تست\n",
    "nums = [5, 12, 3, 9, 21, -4]\n",
    "print(min_max(nums))  # (-4, 21)"
   ]
  },
  {
   "cell_type": "code",
   "execution_count": null,
   "id": "86496523",
   "metadata": {},
   "outputs": [
    {
     "name": "stdout",
     "output_type": "stream",
     "text": [
      "اعداد رو وارد کن (برای پایان، کلمه 'done' رو وارد کن):\n",
      "لیست نهایی: [12, 13, 14, 15]\n"
     ]
    },
    {
     "data": {
      "text/plain": [
       "(12, 15)"
      ]
     },
     "execution_count": 12,
     "metadata": {},
     "output_type": "execute_result"
    }
   ],
   "source": [
    "def min_max (numbers):\n",
    "    min_holder = numbers [0]\n",
    "    max_holder = numbers [0]\n",
    "    for number in numbers:\n",
    "        min_holder = number if number > min_holder else min_holder\n",
    "    \n",
    "    for number in numbers:\n",
    "        max_holder = number if number < max_holder else max_holder\n",
    "\n",
    "    return min_holder, max_holder\n",
    "\n",
    "numbers = []\n",
    "print(\"اعداد رو وارد کن (برای پایان، کلمه 'done' رو وارد کن):\")\n",
    "\n",
    "while True:\n",
    "    user_input = input(\"عدد: \")\n",
    "    if user_input.lower() == \"done\":\n",
    "        break\n",
    "    try:\n",
    "        number = int(user_input) \n",
    "        numbers.append(number)\n",
    "    except ValueError:\n",
    "        print(\"لطفاً فقط عدد یا 'done' وارد کن.\")\n",
    "\n",
    "print(\"لیست نهایی:\", numbers)\n",
    "\n",
    "\n",
    "min_max (numbers)"
   ]
  },
  {
   "cell_type": "markdown",
   "id": "fed766c6",
   "metadata": {},
   "source": [
    "تابعی بنویس که یک لیست از اعداد بگیرد و فقط مقادیر منحصر به فرد (بدون تکراری‌ها) را برگرداند، ولی به ترتیب اولی که ظاهر شدند"
   ]
  },
  {
   "cell_type": "code",
   "execution_count": 20,
   "id": "0b0a6b57",
   "metadata": {},
   "outputs": [
    {
     "data": {
      "text/plain": [
       "[12, 14, 15, 16]"
      ]
     },
     "execution_count": 20,
     "metadata": {},
     "output_type": "execute_result"
    }
   ],
   "source": [
    "def special (numbers):\n",
    "    specials_order = []\n",
    "    specials = set ()\n",
    "    for number in numbers:\n",
    "        if number not in specials:\n",
    "            specials.add (number)\n",
    "            specials_order.append (number)\n",
    "\n",
    "    return specials_order\n",
    "\n",
    "\n",
    "\n",
    "\n",
    "numbers = list( map( int, input (\"Please Enter numbers with space between them: \").split()))\n",
    "\n",
    "special (numbers)"
   ]
  }
 ],
 "metadata": {
  "kernelspec": {
   "display_name": "test3_py12",
   "language": "python",
   "name": "python3"
  },
  "language_info": {
   "codemirror_mode": {
    "name": "ipython",
    "version": 3
   },
   "file_extension": ".py",
   "mimetype": "text/x-python",
   "name": "python",
   "nbconvert_exporter": "python",
   "pygments_lexer": "ipython3",
   "version": "3.12.11"
  }
 },
 "nbformat": 4,
 "nbformat_minor": 5
}
