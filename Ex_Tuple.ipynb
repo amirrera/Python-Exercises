{
 "cells": [
  {
   "cell_type": "markdown",
   "id": "fecd0117",
   "metadata": {},
   "source": [
    "Let's go"
   ]
  },
  {
   "cell_type": "code",
   "execution_count": 3,
   "id": "febe6837",
   "metadata": {},
   "outputs": [
    {
     "name": "stdout",
     "output_type": "stream",
     "text": [
      "10\n",
      "40\n",
      "4\n"
     ]
    }
   ],
   "source": [
    "my_tuple = (10, 20, 30, 40)\n",
    "print (my_tuple [0])\n",
    "print (my_tuple [-1])\n",
    "print (len(my_tuple))"
   ]
  },
  {
   "cell_type": "code",
   "execution_count": 9,
   "id": "0dd1843b",
   "metadata": {},
   "outputs": [
    {
     "name": "stdout",
     "output_type": "stream",
     "text": [
      "9 2 28\n"
     ]
    }
   ],
   "source": [
    "numbers = (5, 8, 2, 9, 4)\n",
    "print (max (numbers), min (numbers), sum (numbers))"
   ]
  },
  {
   "cell_type": "code",
   "execution_count": 11,
   "id": "32f153bd",
   "metadata": {},
   "outputs": [
    {
     "name": "stdout",
     "output_type": "stream",
     "text": [
      "2\n",
      "1\n"
     ]
    }
   ],
   "source": [
    "fruits = ('apple', 'banana', 'apple', 'orange')\n",
    "print (fruits.count (\"apple\"))\n",
    "print (fruits.index (\"banana\"))"
   ]
  },
  {
   "cell_type": "code",
   "execution_count": null,
   "id": "3f2c07cd",
   "metadata": {},
   "outputs": [],
   "source": [
    "#tuples are immutable\n",
    "my_tuple[0] = 100  # خطا!\n",
    "my_tuple.append(50) # خطا!"
   ]
  }
 ],
 "metadata": {
  "kernelspec": {
   "display_name": "test3_py12",
   "language": "python",
   "name": "python3"
  },
  "language_info": {
   "codemirror_mode": {
    "name": "ipython",
    "version": 3
   },
   "file_extension": ".py",
   "mimetype": "text/x-python",
   "name": "python",
   "nbconvert_exporter": "python",
   "pygments_lexer": "ipython3",
   "version": "3.12.11"
  }
 },
 "nbformat": 4,
 "nbformat_minor": 5
}
