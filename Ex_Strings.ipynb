{
 "cells": [
  {
   "cell_type": "markdown",
   "id": "5ca1b92f",
   "metadata": {},
   "source": [
    "Working with Strings "
   ]
  },
  {
   "cell_type": "code",
   "execution_count": 4,
   "id": "a61d5676",
   "metadata": {},
   "outputs": [
    {
     "name": "stdout",
     "output_type": "stream",
     "text": [
      "olleh\n"
     ]
    }
   ],
   "source": [
    "text = \"hello\"\n",
    "reversed_text = \"\"\n",
    "for char in text:\n",
    "    reversed_text = char + reversed_text\n",
    "\n",
    "print(reversed_text)  # خروجی: \"olleh\""
   ]
  },
  {
   "cell_type": "code",
   "execution_count": 5,
   "id": "d8df86e7",
   "metadata": {},
   "outputs": [
    {
     "name": "stdout",
     "output_type": "stream",
     "text": [
      "hello\n"
     ]
    }
   ],
   "source": [
    "text = \"hello\"\n",
    "rebuild = \"\"\n",
    "for char in text:\n",
    "    rebuild = rebuild + char  # یا: rebuild += char\n",
    "\n",
    "print(rebuild)  # خروجی: hello"
   ]
  },
  {
   "cell_type": "code",
   "execution_count": 6,
   "id": "adb329b4",
   "metadata": {},
   "outputs": [
    {
     "name": "stdout",
     "output_type": "stream",
     "text": [
      "progamin\n"
     ]
    }
   ],
   "source": [
    "text = \"programming\"\n",
    "result = \"\"\n",
    "for char in text:\n",
    "    if char not in result:\n",
    "        result += char\n",
    "\n",
    "print(result)  # خروجی: \"progamin\""
   ]
  },
  {
   "cell_type": "code",
   "execution_count": 7,
   "id": "14c74b4b",
   "metadata": {},
   "outputs": [
    {
     "name": "stdout",
     "output_type": "stream",
     "text": [
      "I love bananas\n"
     ]
    }
   ],
   "source": [
    "text = \"I love apples\"\n",
    "new_text = text.replace(\"apples\", \"bananas\")\n",
    "print(new_text)  # خروجی: I love bananas"
   ]
  },
  {
   "cell_type": "code",
   "execution_count": 8,
   "id": "67fa74fd",
   "metadata": {},
   "outputs": [
    {
     "name": "stdout",
     "output_type": "stream",
     "text": [
      "Python is fun\n"
     ]
    }
   ],
   "source": [
    "text = \"   Python is fun   \"\n",
    "clean_text = text.strip()\n",
    "print(clean_text)  # خروجی: Python is fun"
   ]
  },
  {
   "cell_type": "code",
   "execution_count": 9,
   "id": "d3c60d4d",
   "metadata": {},
   "outputs": [
    {
     "name": "stdout",
     "output_type": "stream",
     "text": [
      "True\n",
      "True\n"
     ]
    }
   ],
   "source": [
    "text = \"hello_world.py\"\n",
    "print(text.startswith(\"hello\"))   # خروجی: True\n",
    "print(text.endswith(\".py\"))       # خروجی: True"
   ]
  },
  {
   "cell_type": "code",
   "execution_count": 10,
   "id": "0ce53283",
   "metadata": {},
   "outputs": [
    {
     "name": "stdout",
     "output_type": "stream",
     "text": [
      "PYTHON IS COOL\n",
      "python is cool\n"
     ]
    }
   ],
   "source": [
    "text = \"Python Is Cool\"\n",
    "print(text.upper())  # خروجی: PYTHON IS COOL\n",
    "print(text.lower())  # خروجی: python is cool"
   ]
  },
  {
   "cell_type": "code",
   "execution_count": 11,
   "id": "73a0d3ac",
   "metadata": {},
   "outputs": [
    {
     "name": "stdout",
     "output_type": "stream",
     "text": [
      "['Python', 'is', 'easy', 'and', 'powerful']\n"
     ]
    }
   ],
   "source": [
    "text = \"Python is easy and powerful\"\n",
    "words = text.split()\n",
    "print(words)  # خروجی: ['Python', 'is', 'easy', 'and', 'powerful']"
   ]
  },
  {
   "cell_type": "code",
   "execution_count": null,
   "id": "bf07aecb",
   "metadata": {},
   "outputs": [],
   "source": []
  }
 ],
 "metadata": {
  "kernelspec": {
   "display_name": "test3_py12",
   "language": "python",
   "name": "python3"
  },
  "language_info": {
   "codemirror_mode": {
    "name": "ipython",
    "version": 3
   },
   "file_extension": ".py",
   "mimetype": "text/x-python",
   "name": "python",
   "nbconvert_exporter": "python",
   "pygments_lexer": "ipython3",
   "version": "3.12.11"
  }
 },
 "nbformat": 4,
 "nbformat_minor": 5
}
