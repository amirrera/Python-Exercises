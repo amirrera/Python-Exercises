{
 "cells": [
  {
   "cell_type": "markdown",
   "id": "a24210d6",
   "metadata": {},
   "source": [
    "Let's Start"
   ]
  },
  {
   "cell_type": "code",
   "execution_count": 1,
   "id": "3c753db8",
   "metadata": {},
   "outputs": [
    {
     "name": "stdout",
     "output_type": "stream",
     "text": [
      "تمرین ۱ - عناصر مشترک: {4, 5}\n"
     ]
    }
   ],
   "source": [
    "# ------------------------------\n",
    "# تمرین ۱: پیدا کردن عناصر مشترک دو لیست\n",
    "# ------------------------------\n",
    "# دو لیست داریم. برنامه‌ای بنویس که عناصر مشترک این دو لیست رو به‌صورت یک مجموعه نمایش بده.\n",
    "\n",
    "list1 = [1, 2, 3, 4, 5]\n",
    "list2 = [4, 5, 6, 7, 8]\n",
    "\n",
    "set1 = set(list1)\n",
    "set2 = set(list2)\n",
    "\n",
    "common = set1 & set2  # یا: set1.intersection(set2)\n",
    "\n",
    "print(\"تمرین ۱ - عناصر مشترک:\", common)"
   ]
  },
  {
   "cell_type": "code",
   "execution_count": 2,
   "id": "aeca2a0d",
   "metadata": {},
   "outputs": [
    {
     "name": "stdout",
     "output_type": "stream",
     "text": [
      "تمرین ۲ - مقادیر یکتا: {1, 2, 3, 4, 5}\n"
     ]
    }
   ],
   "source": [
    "# ------------------------------\n",
    "# تمرین ۲: حذف عناصر تکراری از یک لیست\n",
    "# ------------------------------\n",
    "# یک لیست شامل اعداد تکراری داریم. برنامه‌ای بنویس که فقط مقادیر یکتا رو چاپ کنه.\n",
    "\n",
    "numbers = [1, 2, 2, 3, 4, 4, 5, 1]\n",
    "\n",
    "unique_numbers = set(numbers)\n",
    "\n",
    "print(\"تمرین ۲ - مقادیر یکتا:\", unique_numbers)"
   ]
  },
  {
   "cell_type": "code",
   "execution_count": 3,
   "id": "8ec4c350",
   "metadata": {},
   "outputs": [
    {
     "name": "stdout",
     "output_type": "stream",
     "text": [
      "تمرین ۳ - آیا a زیرمجموعه‌ی b هست؟ True\n"
     ]
    }
   ],
   "source": [
    "# ------------------------------\n",
    "# تمرین ۳: چک کردن زیرمجموعه بودن\n",
    "# ------------------------------\n",
    "# برنامه‌ای بنویس که بررسی کنه آیا یک مجموعه، زیرمجموعه‌ی مجموعه‌ی دیگر هست یا نه.\n",
    "\n",
    "a = {1, 2, 3}\n",
    "b = {1, 2, 3, 4, 5}\n",
    "\n",
    "is_subset = a.issubset(b)  # یا: a <= b\n",
    "\n",
    "print(\"تمرین ۳ - آیا a زیرمجموعه‌ی b هست؟\", is_subset)"
   ]
  }
 ],
 "metadata": {
  "kernelspec": {
   "display_name": "test3_py12",
   "language": "python",
   "name": "python3"
  },
  "language_info": {
   "codemirror_mode": {
    "name": "ipython",
    "version": 3
   },
   "file_extension": ".py",
   "mimetype": "text/x-python",
   "name": "python",
   "nbconvert_exporter": "python",
   "pygments_lexer": "ipython3",
   "version": "3.12.11"
  }
 },
 "nbformat": 4,
 "nbformat_minor": 5
}
