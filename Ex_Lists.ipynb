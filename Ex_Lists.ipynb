{
 "cells": [
  {
   "cell_type": "markdown",
   "id": "43da4fbe",
   "metadata": {},
   "source": [
    "Working with Lists."
   ]
  },
  {
   "cell_type": "code",
   "execution_count": 1,
   "id": "d84b2a93",
   "metadata": {},
   "outputs": [
    {
     "name": "stdout",
     "output_type": "stream",
     "text": [
      "Lets Start!\n"
     ]
    }
   ],
   "source": [
    "print (\"Lets Start!\")"
   ]
  },
  {
   "cell_type": "code",
   "execution_count": 11,
   "id": "b3e87ba0",
   "metadata": {},
   "outputs": [
    {
     "name": "stdout",
     "output_type": "stream",
     "text": [
      "109\n",
      "15.57\n",
      "20\n",
      "10\n"
     ]
    }
   ],
   "source": [
    "grades = [14, 18, 20, 12, 16, 10, 19]\n",
    "grades_sum = sum (grades)\n",
    "print (grades_sum)\n",
    "avg = grades_sum / len (grades)\n",
    "print (f\"{avg:.2f}\")\n",
    "print(max (grades))\n",
    "print(min (grades))"
   ]
  },
  {
   "cell_type": "code",
   "execution_count": 17,
   "id": "bb405b11",
   "metadata": {},
   "outputs": [
    {
     "data": {
      "text/plain": [
       "['Bread', 'Milk', 'Rice', 'Egg']"
      ]
     },
     "execution_count": 17,
     "metadata": {},
     "output_type": "execute_result"
    }
   ],
   "source": [
    "shop = [\"Bread\",\"Milk\",\"Rice\"]\n",
    "shop.append (\"Egg\")\n",
    "shop\n"
   ]
  },
  {
   "cell_type": "code",
   "execution_count": null,
   "id": "01fadcd6",
   "metadata": {},
   "outputs": [
    {
     "data": {
      "text/plain": [
       "['Bread', 'Rice', 'Egg']"
      ]
     },
     "execution_count": 18,
     "metadata": {},
     "output_type": "execute_result"
    }
   ],
   "source": [
    "shop.remove (\"Milk\")\n",
    "shop"
   ]
  },
  {
   "cell_type": "code",
   "execution_count": 20,
   "id": "2e88abaf",
   "metadata": {},
   "outputs": [
    {
     "data": {
      "text/plain": [
       "['Bread', 'Egg', 'Rice']"
      ]
     },
     "execution_count": 20,
     "metadata": {},
     "output_type": "execute_result"
    }
   ],
   "source": [
    "shop.sort ()\n",
    "shop"
   ]
  },
  {
   "cell_type": "code",
   "execution_count": 21,
   "id": "2b585c43",
   "metadata": {},
   "outputs": [
    {
     "data": {
      "text/plain": [
       "['Rice', 'Egg', 'Bread']"
      ]
     },
     "execution_count": 21,
     "metadata": {},
     "output_type": "execute_result"
    }
   ],
   "source": [
    "shop.reverse ()\n",
    "shop"
   ]
  },
  {
   "cell_type": "code",
   "execution_count": 22,
   "id": "820300be",
   "metadata": {},
   "outputs": [
    {
     "name": "stdout",
     "output_type": "stream",
     "text": [
      "3\n"
     ]
    }
   ],
   "source": [
    "print (len (shop))"
   ]
  }
 ],
 "metadata": {
  "kernelspec": {
   "display_name": "test3_py12",
   "language": "python",
   "name": "python3"
  },
  "language_info": {
   "codemirror_mode": {
    "name": "ipython",
    "version": 3
   },
   "file_extension": ".py",
   "mimetype": "text/x-python",
   "name": "python",
   "nbconvert_exporter": "python",
   "pygments_lexer": "ipython3",
   "version": "3.12.11"
  }
 },
 "nbformat": 4,
 "nbformat_minor": 5
}
