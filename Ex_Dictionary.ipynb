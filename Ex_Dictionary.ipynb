{
 "cells": [
  {
   "cell_type": "markdown",
   "id": "f84f5c67",
   "metadata": {},
   "source": [
    "Let's go"
   ]
  },
  {
   "cell_type": "code",
   "execution_count": 4,
   "id": "f0ecdb0e",
   "metadata": {},
   "outputs": [
    {
     "name": "stdout",
     "output_type": "stream",
     "text": [
      "Sara\n",
      "20\n",
      "{'name': 'Sara', 'age': 18, 'grade': 20, 'passed': 'True'}\n"
     ]
    }
   ],
   "source": [
    "student = {\n",
    "    \"name\": \"Sara\",\n",
    "    \"age\": 18,\n",
    "    \"grade\": 19.5\n",
    "}\n",
    "print (student[\"name\"])\n",
    "student [\"grade\"] = 20\n",
    "print (student[\"grade\"])\n",
    "student [\"passed\"] = \"True\"\n",
    "print (student)"
   ]
  },
  {
   "cell_type": "code",
   "execution_count": 9,
   "id": "fecaed27",
   "metadata": {},
   "outputs": [
    {
     "name": "stdout",
     "output_type": "stream",
     "text": [
      "dict_keys(['name', 'age', 'grade', 'passed'])\n",
      "dict_values(['Sara', 18, 20, 'True'])\n",
      "dict_items([('name', 'Sara'), ('age', 18), ('grade', 20), ('passed', 'True')])\n"
     ]
    }
   ],
   "source": [
    "print (student.keys ())\n",
    "print (student.values ())\n",
    "print (student.items ())"
   ]
  },
  {
   "cell_type": "code",
   "execution_count": 13,
   "id": "125396b5",
   "metadata": {},
   "outputs": [
    {
     "name": "stdout",
     "output_type": "stream",
     "text": [
      "{'username': 'amirrera', 'email': 'amir@example.com', 'active': True}\n",
      "{'username': 'amirrera', 'active': True}\n",
      "False False True\n"
     ]
    }
   ],
   "source": [
    "info = {\n",
    "    \"username\": \"amirrera\",\n",
    "    \"email\": \"amir@example.com\",\n",
    "    \"active\": True\n",
    "}\n",
    "print (info)\n",
    "del info [\"email\"]\n",
    "print (info)\n",
    "print (\"age\" in info, \"email\" in info, \"username\" in info)"
   ]
  },
  {
   "cell_type": "code",
   "execution_count": 19,
   "id": "3a442e6b",
   "metadata": {},
   "outputs": [
    {
     "name": "stdout",
     "output_type": "stream",
     "text": [
      "30\n",
      "Reza\n"
     ]
    }
   ],
   "source": [
    "people = [\n",
    "    {\"name\": \"Ali\", \"age\": 30},\n",
    "    {\"name\": \"Zahra\", \"age\": 25},\n",
    "    {\"name\": \"Reza\", \"age\": 40}\n",
    "]\n",
    "len (people)\n",
    "print (people[0]['age'])\n",
    "print (people[-1]['name'])"
   ]
  },
  {
   "cell_type": "code",
   "execution_count": 25,
   "id": "aeee6c98",
   "metadata": {},
   "outputs": [
    {
     "name": "stdout",
     "output_type": "stream",
     "text": [
      "amirrera\n",
      "19\n",
      "Shiraz\n",
      "3\n",
      "[{'username': 'amirrera', 'age': 21, 'city': 'Tehran'}, {'username': 'sara_90', 'age': 25, 'city': 'Shiraz'}, {'username': 'ali_dev', 'age': 19, 'city': 'Tabriz'}, {'username': 'niloofar88', 'age': 30, 'city': 'Mashhad'}]\n"
     ]
    }
   ],
   "source": [
    "users = [\n",
    "    {\"username\": \"amirrera\", \"age\": 21, \"city\": \"Tehran\"},\n",
    "    {\"username\": \"sara_90\", \"age\": 25, \"city\": \"Shiraz\"},\n",
    "    {\"username\": \"ali_dev\", \"age\": 19, \"city\": \"Tabriz\"}\n",
    "]\n",
    "print (users[0][\"username\"])\n",
    "print (users[2][\"age\"])\n",
    "print (users[1][\"city\"])\n",
    "print (len (users))\n",
    "users.append({\"username\": \"niloofar88\", \"age\": 30, \"city\": \"Mashhad\"})\n",
    "print (users)"
   ]
  }
 ],
 "metadata": {
  "kernelspec": {
   "display_name": "test3_py12",
   "language": "python",
   "name": "python3"
  },
  "language_info": {
   "codemirror_mode": {
    "name": "ipython",
    "version": 3
   },
   "file_extension": ".py",
   "mimetype": "text/x-python",
   "name": "python",
   "nbconvert_exporter": "python",
   "pygments_lexer": "ipython3",
   "version": "3.12.11"
  }
 },
 "nbformat": 4,
 "nbformat_minor": 5
}
