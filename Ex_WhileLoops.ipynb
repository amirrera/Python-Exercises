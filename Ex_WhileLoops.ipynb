{
 "cells": [
  {
   "cell_type": "markdown",
   "id": "f321c303",
   "metadata": {},
   "source": [
    "Let's go"
   ]
  },
  {
   "cell_type": "code",
   "execution_count": 1,
   "id": "40bf857d",
   "metadata": {},
   "outputs": [
    {
     "name": "stdout",
     "output_type": "stream",
     "text": [
      "Sum:19 and the number of numbers!:6\n"
     ]
    }
   ],
   "source": [
    "sum= 0\n",
    "num = int (input (\"Enter the numbers: \"))\n",
    "i=0\n",
    "\n",
    "while num !=0 :\n",
    "    num = int (input (\"Enter the numbers: \"))\n",
    "    sum+=num\n",
    "    i+=1\n",
    "\n",
    "\n",
    "print (f\"Sum:{sum} and the number of numbers!:{i}\")"
   ]
  },
  {
   "cell_type": "code",
   "execution_count": 3,
   "id": "c2d0b944",
   "metadata": {},
   "outputs": [
    {
     "name": "stdout",
     "output_type": "stream",
     "text": [
      "عدد بزرگتر است!\n",
      "عدد کوچکتر است!\n",
      "آفرین! عدد صحیح 20 بود. شما در 3 تلاش موفق شدید.\n"
     ]
    }
   ],
   "source": [
    "import random\n",
    "\n",
    "target = random.randint(1, 100)\n",
    "guess = int(input(\"حدس خود را وارد کنید (۱-۱۰۰، یا 0 برای خروج): \"))\n",
    "attempts = 1\n",
    "\n",
    "while guess != target and guess != 0:\n",
    "    if guess < target:\n",
    "        print(\"عدد بزرگتر است!\")\n",
    "    else:\n",
    "        print(\"عدد کوچکتر است!\")\n",
    "    guess = int(input(\"حدس بعدی خود را وارد کنید: \"))\n",
    "    attempts += 1\n",
    "\n",
    "if guess == target:\n",
    "    print(f\"آفرین! عدد صحیح {target} بود. شما در {attempts} تلاش موفق شدید.\")\n",
    "else:\n",
    "    print(f\"شما انصراف دادید! عدد صحیح {target} بود.\")"
   ]
  },
  {
   "cell_type": "code",
   "execution_count": null,
   "id": "d9ce3cd9",
   "metadata": {},
   "outputs": [],
   "source": [
    "n = int(input(\"عددی برای محاسبه فاکتوریل وارد کنید: \"))\n",
    "factorial = 1\n",
    "i = 1\n",
    "\n",
    "while i <= n:\n",
    "    factorial *= i\n",
    "    i += 1\n",
    "\n",
    "print(f\"فاکتوریل {n} برابر است با: {factorial}\")"
   ]
  }
 ],
 "metadata": {
  "kernelspec": {
   "display_name": "test3_py12",
   "language": "python",
   "name": "python3"
  },
  "language_info": {
   "codemirror_mode": {
    "name": "ipython",
    "version": 3
   },
   "file_extension": ".py",
   "mimetype": "text/x-python",
   "name": "python",
   "nbconvert_exporter": "python",
   "pygments_lexer": "ipython3",
   "version": "3.12.11"
  }
 },
 "nbformat": 4,
 "nbformat_minor": 5
}
